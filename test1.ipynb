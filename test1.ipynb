{
 "cells": [
  {
   "cell_type": "markdown",
   "id": "0570596a-8aa7-486f-bb09-9b6bedba0e92",
   "metadata": {},
   "source": [
    "# Concept drift detection set in the LED Display Domain dataset\n",
    "The LED Display domain dataset https://archive.ics.uci.edu/dataset/57/led+display+domain is a data set "
   ]
  },
  {
   "cell_type": "code",
   "execution_count": null,
   "id": "494e2d2e-12d7-48e1-b36a-a67dbda1b11f",
   "metadata": {},
   "outputs": [],
   "source": [
    "import numpy as np\n",
    "import pandas \n",
    "import matplotlib\n",
    "import "
   ]
  }
 ],
 "metadata": {
  "kernelspec": {
   "display_name": "Python 3 (ipykernel)",
   "language": "python",
   "name": "python3"
  },
  "language_info": {
   "codemirror_mode": {
    "name": "ipython",
    "version": 3
   },
   "file_extension": ".py",
   "mimetype": "text/x-python",
   "name": "python",
   "nbconvert_exporter": "python",
   "pygments_lexer": "ipython3",
   "version": "3.10.11"
  }
 },
 "nbformat": 4,
 "nbformat_minor": 5
}
